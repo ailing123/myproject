{
 "cells": [
  {
   "cell_type": "code",
   "execution_count": 56,
   "metadata": {},
   "outputs": [
    {
     "name": "stdout",
     "output_type": "stream",
     "text": [
      "You are in a land full of dragons. In front of you, you see two caves.\n",
      "In one cave, the dragon is friendly and will share his treasure with you.\n",
      "The other dragon is greedy and hungry, and will eat you on sight.\n",
      "Which cave would you go into? (1 or 2)1\n",
      "\n",
      "You approach a cave...\n",
      "It is dark and spooky....\n",
      "A large dragon jumps out infront of you! He opens his jaw and ....\n",
      "Gobbles you dwon in one bite!\n",
      "Do you want play again? (Y or N)N\n"
     ]
    }
   ],
   "source": [
    "# 3/21\n",
    "\n",
    "def player():\n",
    "    print(\"You are in a land full of dragons. In front of you, you see two caves.\\nIn one cave, the dragon is friendly and will share his treasure with you.\\nThe other dragon is greedy and hungry, and will eat you on sight.\")\n",
    "    playerchoice=input(\"Which cave would you go into? (1 or 2)\")\n",
    "    \n",
    "    if playerchoice=='1':\n",
    "        print(\"\")\n",
    "        print(\"You approach a cave...\")\n",
    "        print(\"It is dark and spooky....\")\n",
    "        print(\"A large dragon jumps out infront of you! He opens his jaw and ....\")\n",
    "        print(\"Gobbles you dwon in one bite!\")\n",
    "        playagainornot=input(\"Do you want play again? (Y or N)\")\n",
    "    \n",
    "    elif playerchoice=='2':\n",
    "        print(\"\")\n",
    "        print(\"You approach a cave...\")\n",
    "        print(\"Surprise!\")\n",
    "        print(\"You meet a friendly dragon\")\n",
    "        playagainornot=input(\"Do you want play again? (Y or N)\")\n",
    "\n",
    "    if playagainornot=='Y':\n",
    "        print(\"\")\n",
    "        player()\n",
    "    \n",
    "        \n",
    "\n",
    "player()\n",
    "\n",
    "    \n"
   ]
  },
  {
   "cell_type": "code",
   "execution_count": null,
   "metadata": {},
   "outputs": [],
   "source": []
  }
 ],
 "metadata": {
  "celltoolbar": "Raw Cell Format",
  "kernelspec": {
   "display_name": "Python 3",
   "language": "python",
   "name": "python3"
  },
  "language_info": {
   "codemirror_mode": {
    "name": "ipython",
    "version": 3
   },
   "file_extension": ".py",
   "mimetype": "text/x-python",
   "name": "python",
   "nbconvert_exporter": "python",
   "pygments_lexer": "ipython3",
   "version": "3.7.0"
  }
 },
 "nbformat": 4,
 "nbformat_minor": 2
}
