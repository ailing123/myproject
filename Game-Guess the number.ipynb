{
 "cells": [
  {
   "cell_type": "code",
   "execution_count": 14,
   "metadata": {},
   "outputs": [
    {
     "name": "stdout",
     "output_type": "stream",
     "text": [
      "Hello! What is your name?\n",
      "pig\n",
      "Well pig I am think of a number between 1 and 20.\n",
      "Take a guess.\n",
      "10\n",
      "Your guess is too low\n",
      "Take a guess.\n",
      "15\n",
      "Good job ! You guess my number in 2 times\n"
     ]
    }
   ],
   "source": [
    "import random\n",
    "name=input(\"Hello! What is your name?\\n\")\n",
    "print(\"Well\", name, \"I am think of a number between 1 and 20.\")\n",
    "\n",
    "count_time=[]\n",
    "guess_num=int(input(\"Take a guess.\\n\"))\n",
    "count_time.append(guess_num)\n",
    "\n",
    "random_num=random.randint(1,20)\n",
    "if guess_num>random_num:\n",
    "    print(\"Your guess is too high\")\n",
    "    guess_num=int(input(\"Take a guess.\\n\"))\n",
    "    count_time.append(guess_num)\n",
    "elif guess_num<random_num:\n",
    "    print(\"Your guess is too low\")\n",
    "    guess_num=int(input(\"Take a guess.\\n\"))\n",
    "    count_time.append(guess_num)\n",
    "elif guess_num==random_num:\n",
    "    print(\"correct\")\n",
    "\n",
    "guess_time=len(count_time)\n",
    "#print(\"Good job ! You guess my number in %d times\" %(guess_time))\n",
    "print(\"Good job ! You guess my number in {} times\". format(guess_time))"
   ]
  },
  {
   "cell_type": "code",
   "execution_count": null,
   "metadata": {},
   "outputs": [],
   "source": []
  }
 ],
 "metadata": {
  "kernelspec": {
   "display_name": "Python 3",
   "language": "python",
   "name": "python3"
  },
  "language_info": {
   "codemirror_mode": {
    "name": "ipython",
    "version": 3
   },
   "file_extension": ".py",
   "mimetype": "text/x-python",
   "name": "python",
   "nbconvert_exporter": "python",
   "pygments_lexer": "ipython3",
   "version": "3.7.0"
  }
 },
 "nbformat": 4,
 "nbformat_minor": 2
}
